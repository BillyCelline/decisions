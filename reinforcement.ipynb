{
 "cells": [
  {
   "cell_type": "code",
   "execution_count": 2,
   "metadata": {},
   "outputs": [],
   "source": [
    "import numpy as np, scipy as sp, pandas as pd, sklearn as sk\n",
    "from sklearn.neighbors import KNeighborsRegressor"
   ]
  },
  {
   "cell_type": "code",
   "execution_count": 28,
   "metadata": {},
   "outputs": [],
   "source": [
    "def write_policy(dataset, policy):\n",
    "    file = open(dataset + \".policy\", \"w\")\n",
    "    \n",
    "    for i in range(len(policy)):\n",
    "        state = str(int(policy[i])) +\"\\n\"\n",
    "        file.write(state)\n",
    "\n",
    "    file.close()"
   ]
  },
  {
   "cell_type": "code",
   "execution_count": 3,
   "metadata": {},
   "outputs": [],
   "source": [
    "data = pd.read_csv('small.csv') "
   ]
  },
  {
   "cell_type": "code",
   "execution_count": 5,
   "metadata": {},
   "outputs": [
    {
     "data": {
      "text/html": [
       "<div>\n",
       "<style scoped>\n",
       "    .dataframe tbody tr th:only-of-type {\n",
       "        vertical-align: middle;\n",
       "    }\n",
       "\n",
       "    .dataframe tbody tr th {\n",
       "        vertical-align: top;\n",
       "    }\n",
       "\n",
       "    .dataframe thead th {\n",
       "        text-align: right;\n",
       "    }\n",
       "</style>\n",
       "<table border=\"1\" class=\"dataframe\">\n",
       "  <thead>\n",
       "    <tr style=\"text-align: right;\">\n",
       "      <th></th>\n",
       "      <th>s</th>\n",
       "      <th>a</th>\n",
       "      <th>r</th>\n",
       "      <th>sp</th>\n",
       "    </tr>\n",
       "  </thead>\n",
       "  <tbody>\n",
       "    <tr>\n",
       "      <td>0</td>\n",
       "      <td>46</td>\n",
       "      <td>4</td>\n",
       "      <td>0</td>\n",
       "      <td>36</td>\n",
       "    </tr>\n",
       "    <tr>\n",
       "      <td>1</td>\n",
       "      <td>36</td>\n",
       "      <td>1</td>\n",
       "      <td>0</td>\n",
       "      <td>35</td>\n",
       "    </tr>\n",
       "    <tr>\n",
       "      <td>2</td>\n",
       "      <td>35</td>\n",
       "      <td>2</td>\n",
       "      <td>0</td>\n",
       "      <td>34</td>\n",
       "    </tr>\n",
       "    <tr>\n",
       "      <td>3</td>\n",
       "      <td>34</td>\n",
       "      <td>1</td>\n",
       "      <td>0</td>\n",
       "      <td>33</td>\n",
       "    </tr>\n",
       "    <tr>\n",
       "      <td>4</td>\n",
       "      <td>33</td>\n",
       "      <td>2</td>\n",
       "      <td>0</td>\n",
       "      <td>43</td>\n",
       "    </tr>\n",
       "  </tbody>\n",
       "</table>\n",
       "</div>"
      ],
      "text/plain": [
       "    s  a  r  sp\n",
       "0  46  4  0  36\n",
       "1  36  1  0  35\n",
       "2  35  2  0  34\n",
       "3  34  1  0  33\n",
       "4  33  2  0  43"
      ]
     },
     "execution_count": 5,
     "metadata": {},
     "output_type": "execute_result"
    }
   ],
   "source": [
    "data.head(5)"
   ]
  },
  {
   "cell_type": "code",
   "execution_count": 7,
   "metadata": {},
   "outputs": [],
   "source": [
    "#setup\n",
    "\n",
    "states, actions = data.s.unique(), data.a.unique()\n",
    "state_count, action_count = len(states), len(actions)"
   ]
  },
  {
   "cell_type": "code",
   "execution_count": 9,
   "metadata": {},
   "outputs": [],
   "source": [
    "#computes simple transition matrix\n",
    "\n",
    "tmat = np.zeros((state_count, action_count, state_count))\n",
    "rmat = np.zeros((state_count, action_count))\n",
    "\n",
    "for i in data.values:  \n",
    "    tmat[i[0]-1, i[1]-1, i[3]-1] += 1\n",
    "    rmat[i[0]-1, i[1]-1] = i[2]\n",
    "tmat /= np.sum(tmat, axis=-1, keepdims=True)"
   ]
  },
  {
   "cell_type": "code",
   "execution_count": 4,
   "metadata": {},
   "outputs": [],
   "source": [
    "def transition_calc(df):\n",
    "    \n",
    "    states, actions = data.s.unique(), data.a.unique()\n",
    "    state_count, action_count = len(states), len(actions)\n",
    "    \n",
    "    tmat = np.zeros((state_count, action_count, state_count))\n",
    "    rmat = np.zeros((state_count, action_count))\n",
    "\n",
    "    for i in data.values:  \n",
    "        tmat[i[0]-1, i[1]-1, i[3]-1] += 1\n",
    "        rmat[i[0]-1, i[1]-1] = i[2]\n",
    "    tmat /= np.sum(tmat, axis=-1, keepdims=True)\n",
    "    \n",
    "    return states, actions, tmat, rmat"
   ]
  },
  {
   "cell_type": "markdown",
   "metadata": {},
   "source": [
    "## some testing / rationality ##"
   ]
  },
  {
   "cell_type": "code",
   "execution_count": 366,
   "metadata": {},
   "outputs": [
    {
     "data": {
      "text/plain": [
       "array([ 0.,  0.,  0.,  0.,  0.,  0.,  0.,  0.,  0.,  0.,  0.,  0.,  0.,\n",
       "        0.,  3.,  0.,  0.,  0.,  0.,  0.,  0.,  0.,  0.,  0.,  0.,  0.,\n",
       "        0.,  0.,  0.,  0.,  0.,  0.,  0.,  0.,  0.,  0.,  0.,  0.,  0.,\n",
       "        0.,  0.,  0.,  0.,  0.,  0.,  0.,  0.,  0.,  0.,  0.,  0.,  0.,\n",
       "        0.,  0.,  0.,  0.,  0.,  0.,  0.,  0.,  0.,  0.,  0.,  0.,  0.,\n",
       "        0.,  0.,  0.,  0.,  0.,  0.,  0.,  0.,  0.,  0.,  0.,  0.,  0.,\n",
       "        0.,  0.,  0., 10.,  0.,  0.,  0.,  0.,  0.,  0.,  0.,  0.,  0.,\n",
       "        0.,  0.,  0.,  0.,  0.,  0.,  0.,  0.,  0.])"
      ]
     },
     "execution_count": 366,
     "metadata": {},
     "output_type": "execute_result"
    }
   ],
   "source": [
    "rmat[:,0]"
   ]
  },
  {
   "cell_type": "code",
   "execution_count": 428,
   "metadata": {},
   "outputs": [
    {
     "name": "stdout",
     "output_type": "stream",
     "text": [
      "[ 3 12 14 23]\n"
     ]
    },
    {
     "data": {
      "text/plain": [
       "0.128"
      ]
     },
     "execution_count": 428,
     "metadata": {},
     "output_type": "execute_result"
    }
   ],
   "source": [
    "#state 1 > action 1, you stay in 1 with 100% probability\n",
    "\n",
    "s=12\n",
    "a=3\n",
    "print(np.where(tmat[s][a] !=0)[0]+1)\n",
    "\n",
    "tmat[s][a][13]"
   ]
  },
  {
   "cell_type": "code",
   "execution_count": 338,
   "metadata": {},
   "outputs": [
    {
     "name": "stdout",
     "output_type": "stream",
     "text": [
      "possible states:  [ 3 12 14 23]\n",
      "rewards [[0. 0. 0. 0.]\n",
      " [0. 0. 0. 0.]\n",
      " [0. 0. 0. 0.]\n",
      " [0. 0. 0. 0.]]\n",
      "probs [0.16  0.152 0.112 0.576]\n"
     ]
    },
    {
     "data": {
      "text/plain": [
       "0.0"
      ]
     },
     "execution_count": 338,
     "metadata": {},
     "output_type": "execute_result"
    }
   ],
   "source": [
    "#state 12 > action 2, you go to 2/11/13/22 with 10/12/60/16% prob\n",
    "\n",
    "s=12\n",
    "a=2\n",
    "\n",
    "print('possible states: ',np.where(tmat[s][a] !=0)[0]+1)\n",
    "\n",
    "np.where(tmat[s][a] !=0)[0] #these are the states that are possible\n",
    "print('rewards',rmat[tmat[s][a] !=0]) #these are the rewards from transitioning\n",
    "print('probs',tmat[s][a][tmat[s][a] !=0])\n",
    "\n",
    "\n",
    "tmat[s][a][tmat[s][a] !=0]@rmat[tmat[s][a] !=0][a]"
   ]
  },
  {
   "cell_type": "code",
   "execution_count": null,
   "metadata": {},
   "outputs": [],
   "source": [
    "exp_r = tmat[state][action][tmat[state][action] !=0]@rmat[tmat[state][action] !=0][a]"
   ]
  },
  {
   "cell_type": "code",
   "execution_count": 270,
   "metadata": {},
   "outputs": [
    {
     "data": {
      "text/plain": [
       "array([ 0.,  0.,  0.,  0.,  0.,  0.,  0.,  0.,  0.,  0.,  0.,  0.,  0.,\n",
       "        0.,  3.,  0.,  0.,  0.,  0.,  0.,  0.,  0.,  0.,  0.,  0.,  0.,\n",
       "        0.,  0.,  0.,  0.,  0.,  0.,  0.,  0.,  0.,  0.,  0.,  0.,  0.,\n",
       "        0.,  0.,  0.,  0.,  0.,  0.,  0.,  0.,  0.,  0.,  0.,  0.,  0.,\n",
       "        0.,  0.,  0.,  0.,  0.,  0.,  0.,  0.,  0.,  0.,  0.,  0.,  0.,\n",
       "        0.,  0.,  0.,  0.,  0.,  0.,  0.,  0.,  0.,  0.,  0.,  0.,  0.,\n",
       "        0.,  0.,  0., 10.,  0.,  0.,  0.,  0.,  0.,  0.,  0.,  0.,  0.,\n",
       "        0.,  0.,  0.,  0.,  0.,  0.,  0.,  0.,  0.])"
      ]
     },
     "execution_count": 270,
     "metadata": {},
     "output_type": "execute_result"
    }
   ],
   "source": [
    "rmat[:,0]"
   ]
  },
  {
   "cell_type": "code",
   "execution_count": 272,
   "metadata": {},
   "outputs": [
    {
     "name": "stdout",
     "output_type": "stream",
     "text": [
      "48\n"
     ]
    },
    {
     "data": {
      "text/plain": [
       "0.0"
      ]
     },
     "execution_count": 272,
     "metadata": {},
     "output_type": "execute_result"
    }
   ],
   "source": [
    "s0 = np.random.randint(1,100,1)[0]\n",
    "print(s0)\n",
    "#tmat[s0][0]\n",
    "\n",
    "[tmat[s0][i]@rmat[:,0] for i in range(action_count)]\n",
    "rmat[1,2]"
   ]
  },
  {
   "cell_type": "code",
   "execution_count": 408,
   "metadata": {},
   "outputs": [
    {
     "data": {
      "text/plain": [
       "array([ 0.,  0.,  0.,  0.,  0.,  0.,  0.,  0.,  0.,  0.,  0.,  0.,  0.,\n",
       "        0.,  3.,  0.,  0.,  0.,  0.,  0.,  0.,  0.,  0.,  0.,  0.,  0.,\n",
       "        0.,  0.,  0.,  0.,  0.,  0.,  0.,  0.,  0.,  0.,  0.,  0.,  0.,\n",
       "        0.,  0.,  0.,  0.,  0.,  0.,  0.,  0.,  0.,  0.,  0.,  0.,  0.,\n",
       "        0.,  0.,  0.,  0.,  0.,  0.,  0.,  0.,  0.,  0.,  0.,  0.,  0.,\n",
       "        0.,  0.,  0.,  0.,  0.,  0.,  0.,  0.,  0.,  0.,  0.,  0.,  0.,\n",
       "        0.,  0.,  0., 10.,  0.,  0.,  0.,  0.,  0.,  0.,  0.,  0.,  0.,\n",
       "        0.,  0.,  0.,  0.,  0.,  0.,  0.,  0.,  0.])"
      ]
     },
     "execution_count": 408,
     "metadata": {},
     "output_type": "execute_result"
    }
   ],
   "source": [
    "rmat[:,0]"
   ]
  },
  {
   "cell_type": "code",
   "execution_count": 483,
   "metadata": {},
   "outputs": [
    {
     "data": {
      "text/plain": [
       "array([0., 0., 0., 0., 1., 0., 0., 0., 0., 0., 0., 0., 0., 0., 0., 0., 0.,\n",
       "       0., 0., 0., 0., 0., 0., 0., 0., 0., 0., 0., 0., 0., 0., 0., 0., 0.,\n",
       "       0., 0., 0., 0., 0., 0., 0., 0., 0., 0., 0., 0., 0., 0., 0., 0., 0.,\n",
       "       0., 0., 0., 0., 0., 0., 0., 0., 0., 0., 0., 0., 0., 0., 0., 0., 0.,\n",
       "       0., 0., 0., 0., 0., 0., 0., 0., 0., 0., 0., 0., 0., 0., 0., 0., 0.,\n",
       "       0., 0., 0., 0., 0., 0., 0., 0., 0., 0., 0., 0., 0., 0., 0.])"
      ]
     },
     "execution_count": 483,
     "metadata": {},
     "output_type": "execute_result"
    }
   ],
   "source": [
    "a = 4\n",
    "tmat[4][a-1]"
   ]
  },
  {
   "cell_type": "code",
   "execution_count": 55,
   "metadata": {},
   "outputs": [
    {
     "data": {
      "text/plain": [
       "array([0])"
      ]
     },
     "execution_count": 55,
     "metadata": {},
     "output_type": "execute_result"
    }
   ],
   "source": [
    "np.where(tmat[0][0] !=0)[0]"
   ]
  },
  {
   "cell_type": "code",
   "execution_count": 130,
   "metadata": {},
   "outputs": [],
   "source": [
    "#tmat[0]"
   ]
  },
  {
   "cell_type": "markdown",
   "metadata": {},
   "source": [
    "## now some iteration ##"
   ]
  },
  {
   "cell_type": "code",
   "execution_count": 5,
   "metadata": {},
   "outputs": [],
   "source": [
    "def value_iteration(data, iters, discount, verbose):\n",
    "    \n",
    "    states, actions, tmat, rmat = transition_calc(data)\n",
    "    state_count, action_count = len(states), len(actions)\n",
    "    policy = np.zeros((iters, state_count))\n",
    "    v = np.zeros(state_count)\n",
    "        \n",
    "    for i in range(iters):\n",
    "        \n",
    "        v_temp = np.zeros(state_count)\n",
    "        \n",
    "        for state in range(state_count):\n",
    "            rewards = {}\n",
    "            \n",
    "            if verbose == True:\n",
    "                print('\\ncurrent state:', state, '\\ncurrent value:', v[state])\n",
    "                print('possible states:', np.where(tmat[state][0] !=0)[0],'\\n')\n",
    "            \n",
    "            total = 0\n",
    "            for action in range(action_count):\n",
    "                exp_r = tmat[state][action]@rmat[:,action]\n",
    "                possible_actions = np.where(tmat[state][action] != 0)[0]\n",
    "                next_states = np.sum([v[j]*tmat[state][action][j] for j in possible_actions])\n",
    "                rewards[action] = exp_r + (discount * next_states)\n",
    "\n",
    "            if verbose == True:\n",
    "                print('Actions/Rewards:\\n', rewards)\n",
    "            \n",
    "            reward_max = max(rewards.values())\n",
    "            v_temp[state] = reward_max\n",
    "\n",
    "            best_action = [x==reward_max for x in rewards.values()].index(True)\n",
    "            policy[i][state] = best_action\n",
    "            \n",
    "            if verbose == True:\n",
    "                print('### Optimal Action: ', best_action,'###\\n')\n",
    "\n",
    "        v = v_temp\n",
    "\n",
    "        \n",
    "        if verbose == True:\n",
    "            print('###############\\nvalue update:', v, '\\n###############')\n",
    "\n",
    "    return v, policy[-1]+1"
   ]
  },
  {
   "cell_type": "code",
   "execution_count": 144,
   "metadata": {},
   "outputs": [
    {
     "data": {
      "text/plain": [
       "(array([ 2.27043817,  3.54890064,  4.31352015,  6.17923608,  6.86000568,\n",
       "         5.96863829,  4.2407808 ,  3.4730662 ,  1.91369162,  1.60556239,\n",
       "         3.10683449,  3.79206374,  5.76486615,  7.30553371,  6.76064231,\n",
       "         6.98164382,  5.40008943,  3.31202021,  2.52307141,  1.31894177,\n",
       "         2.87554354,  4.43752686,  4.27633567,  6.08424001,  6.65576667,\n",
       "         5.88480518,  4.0351088 ,  2.99130568,  1.66987084,  1.31338537,\n",
       "         5.83516819,  5.60605151,  5.35522388,  4.36391632,  5.2539241 ,\n",
       "         3.77630101,  3.15842904,  1.78759122,  1.40198971,  0.63994797,\n",
       "         7.34590057,  9.98710101,  6.24057177,  5.7231051 ,  3.51952618,\n",
       "         3.10123775,  1.71177601,  1.44088242,  0.66479122,  0.53648669,\n",
       "        12.81580916, 13.08266707, 10.95122824,  6.78235669,  5.58210949,\n",
       "         2.6474274 ,  2.16444068,  0.70246329,  0.54213875,  0.12668219,\n",
       "        15.84642982, 20.16360658, 13.85832866, 11.71546998,  6.82466048,\n",
       "         5.55571862,  2.34914055,  1.5955486 ,  0.36813134,  0.26712759,\n",
       "        23.48389853, 25.29115888, 21.47667613, 13.95537567, 11.7199097 ,\n",
       "         6.7717395 ,  5.01981958,  1.85086272,  1.36361252,  0.23470338,\n",
       "        26.25881028, 24.60289022, 24.9694581 , 19.08909532, 12.49804646,\n",
       "         9.99600886,  4.56155017,  3.13645591,  0.91543524,  0.62906468,\n",
       "        24.66016157, 25.6934088 , 22.69603255, 15.6293094 , 12.93699998,\n",
       "         7.33739017,  5.22471767,  2.10119865,  1.52645782,  0.31475238]),\n",
       " array([2., 2., 2., 2., 3., 3., 1., 1., 1., 1., 2., 2., 2., 2., 1., 1., 1.,\n",
       "        1., 1., 1., 3., 3., 2., 4., 4., 4., 1., 1., 1., 1., 3., 3., 3., 4.,\n",
       "        4., 4., 1., 1., 1., 1., 3., 3., 3., 3., 4., 4., 4., 4., 1., 1., 3.,\n",
       "        3., 3., 3., 1., 1., 1., 1., 4., 4., 2., 3., 3., 3., 3., 1., 1., 1.,\n",
       "        1., 1., 3., 3., 1., 1., 1., 1., 1., 1., 1., 1., 2., 1., 1., 1., 1.,\n",
       "        1., 1., 1., 1., 1., 4., 4., 4., 1., 1., 1., 1., 1., 1., 1.]))"
      ]
     },
     "execution_count": 144,
     "metadata": {},
     "output_type": "execute_result"
    }
   ],
   "source": [
    "iters = 10\n",
    "discount = 0.95\n",
    "verbose = False\n",
    "\n",
    "value_iteration(data, iters, discount, verbose)"
   ]
  },
  {
   "cell_type": "code",
   "execution_count": 7,
   "metadata": {},
   "outputs": [
    {
     "data": {
      "text/plain": [
       "(array([28.31422613, 28.23968914, 26.95180892, 26.26946799, 26.41003609,\n",
       "        24.14212797, 22.20337661, 20.29390764, 18.39522877, 17.26234101,\n",
       "        30.95758976, 31.05965416, 29.30005601, 28.30854097, 26.62751854,\n",
       "        26.4522315 , 23.54165574, 21.21850112, 19.26579142, 17.79857052,\n",
       "        34.41853635, 34.80557964, 32.35807425, 30.6559104 , 28.5351844 ,\n",
       "        26.45274569, 24.2341858 , 21.95880005, 20.16725075, 18.70951875,\n",
       "        38.21235316, 39.43783157, 36.26672151, 34.09442775, 30.96191074,\n",
       "        28.48052177, 25.73183097, 23.4327951 , 21.39531522, 19.81516874,\n",
       "        42.29387382, 43.54369321, 40.31141427, 37.49841957, 33.99490719,\n",
       "        31.13943772, 28.1238132 , 25.48459243, 23.32614654, 21.32676038,\n",
       "        47.00817347, 49.02785126, 44.6647214 , 41.33706458, 37.65911318,\n",
       "        34.28884828, 31.12563267, 27.93351223, 25.26089145, 23.18334778,\n",
       "        52.2319974 , 54.80332523, 49.87756978, 45.70316272, 41.58556678,\n",
       "        37.94417252, 34.09232509, 30.20765464, 27.33131286, 24.95278538,\n",
       "        58.34512275, 61.95842499, 56.17794233, 50.06799964, 45.76598669,\n",
       "        41.58035235, 37.11838532, 32.89444543, 29.80038886, 26.65608827,\n",
       "        63.02363449, 59.50221914, 61.63543275, 53.72435485, 48.55812333,\n",
       "        43.80680047, 38.22759839, 33.88565168, 30.21400698, 27.58769305,\n",
       "        59.57523533, 62.43545683, 57.51508241, 52.04870717, 47.25307727,\n",
       "        42.37955307, 37.44662076, 33.70026234, 30.55233747, 27.84848431]),\n",
       " array([3., 3., 3., 3., 3., 3., 1., 1., 1., 1., 3., 3., 3., 3., 3., 1., 1.,\n",
       "        1., 1., 1., 3., 3., 3., 3., 3., 3., 1., 1., 1., 1., 3., 3., 3., 3.,\n",
       "        1., 3., 3., 1., 3., 1., 3., 3., 3., 3., 1., 3., 3., 1., 1., 3., 3.,\n",
       "        3., 3., 3., 3., 1., 1., 1., 1., 1., 2., 3., 3., 3., 3., 3., 1., 1.,\n",
       "        3., 1., 3., 3., 1., 1., 1., 1., 1., 1., 1., 1., 2., 1., 1., 1., 1.,\n",
       "        1., 1., 1., 1., 1., 4., 4., 4., 1., 1., 1., 1., 1., 1., 1.]))"
      ]
     },
     "execution_count": 7,
     "metadata": {},
     "output_type": "execute_result"
    }
   ],
   "source": [
    "iters = 100\n",
    "discount = 0.95\n",
    "verbose = False\n",
    "\n",
    "value_iteration(data, iters, discount, verbose)"
   ]
  },
  {
   "cell_type": "code",
   "execution_count": 1,
   "metadata": {},
   "outputs": [
    {
     "ename": "NameError",
     "evalue": "name 'value_iteration' is not defined",
     "output_type": "error",
     "traceback": [
      "\u001b[0;31m---------------------------------------------------------------------------\u001b[0m",
      "\u001b[0;31mNameError\u001b[0m                                 Traceback (most recent call last)",
      "\u001b[0;32m<ipython-input-1-f40ad0812670>\u001b[0m in \u001b[0;36m<module>\u001b[0;34m\u001b[0m\n\u001b[1;32m      3\u001b[0m \u001b[0mverbose\u001b[0m \u001b[0;34m=\u001b[0m \u001b[0;32mFalse\u001b[0m\u001b[0;34m\u001b[0m\u001b[0;34m\u001b[0m\u001b[0m\n\u001b[1;32m      4\u001b[0m \u001b[0;34m\u001b[0m\u001b[0m\n\u001b[0;32m----> 5\u001b[0;31m \u001b[0mvalue_iteration\u001b[0m\u001b[0;34m(\u001b[0m\u001b[0mdata\u001b[0m\u001b[0;34m,\u001b[0m \u001b[0miters\u001b[0m\u001b[0;34m,\u001b[0m \u001b[0mdiscount\u001b[0m\u001b[0;34m,\u001b[0m \u001b[0mverbose\u001b[0m\u001b[0;34m)\u001b[0m\u001b[0;34m\u001b[0m\u001b[0;34m\u001b[0m\u001b[0m\n\u001b[0m",
      "\u001b[0;31mNameError\u001b[0m: name 'value_iteration' is not defined"
     ]
    }
   ],
   "source": [
    "iters = 1000\n",
    "discount = 0.95\n",
    "verbose = False\n",
    "\n",
    "value_iteration(data, iters, discount, verbose)"
   ]
  },
  {
   "cell_type": "code",
   "execution_count": 6,
   "metadata": {},
   "outputs": [
    {
     "ename": "NameError",
     "evalue": "name 'states' is not defined",
     "output_type": "error",
     "traceback": [
      "\u001b[0;31m---------------------------------------------------------------------------\u001b[0m",
      "\u001b[0;31mNameError\u001b[0m                                 Traceback (most recent call last)",
      "\u001b[0;32m<ipython-input-6-3b64a396a869>\u001b[0m in \u001b[0;36m<module>\u001b[0;34m\u001b[0m\n\u001b[1;32m      3\u001b[0m \u001b[0mverbose\u001b[0m \u001b[0;34m=\u001b[0m \u001b[0;32mFalse\u001b[0m\u001b[0;34m\u001b[0m\u001b[0;34m\u001b[0m\u001b[0m\n\u001b[1;32m      4\u001b[0m \u001b[0;34m\u001b[0m\u001b[0m\n\u001b[0;32m----> 5\u001b[0;31m \u001b[0mvalue\u001b[0m\u001b[0;34m,\u001b[0m \u001b[0mpolicy\u001b[0m \u001b[0;34m=\u001b[0m \u001b[0mvalue_iteration\u001b[0m\u001b[0;34m(\u001b[0m\u001b[0mstates\u001b[0m\u001b[0;34m,\u001b[0m \u001b[0mactions\u001b[0m\u001b[0;34m,\u001b[0m \u001b[0mrmat\u001b[0m\u001b[0;34m,\u001b[0m \u001b[0mtmat\u001b[0m\u001b[0;34m,\u001b[0m \u001b[0miters\u001b[0m\u001b[0;34m,\u001b[0m \u001b[0mdiscount\u001b[0m\u001b[0;34m,\u001b[0m \u001b[0mverbose\u001b[0m\u001b[0;34m)\u001b[0m\u001b[0;34m\u001b[0m\u001b[0;34m\u001b[0m\u001b[0m\n\u001b[0m",
      "\u001b[0;31mNameError\u001b[0m: name 'states' is not defined"
     ]
    }
   ],
   "source": [
    "iters = 10000\n",
    "discount = 0.95\n",
    "verbose = False\n",
    "\n",
    "value, policy = value_iteration(states, actions, rmat, tmat, iters, discount, verbose)"
   ]
  },
  {
   "cell_type": "code",
   "execution_count": 66,
   "metadata": {},
   "outputs": [],
   "source": [
    "write_policy('small', policy)"
   ]
  },
  {
   "cell_type": "code",
   "execution_count": 65,
   "metadata": {},
   "outputs": [
    {
     "data": {
      "text/plain": [
       "array([[3., 3., 3., 3., 3., 3., 1., 1., 1., 1.],\n",
       "       [3., 3., 3., 3., 3., 1., 1., 1., 1., 1.],\n",
       "       [3., 3., 3., 3., 3., 3., 1., 1., 1., 1.],\n",
       "       [3., 3., 3., 3., 1., 3., 3., 1., 3., 1.],\n",
       "       [3., 3., 3., 3., 1., 3., 3., 1., 1., 3.],\n",
       "       [3., 3., 3., 3., 3., 1., 1., 1., 1., 1.],\n",
       "       [2., 3., 3., 3., 3., 3., 1., 1., 3., 1.],\n",
       "       [3., 3., 1., 1., 1., 1., 1., 1., 1., 1.],\n",
       "       [2., 1., 1., 1., 1., 1., 1., 1., 1., 1.],\n",
       "       [4., 4., 4., 1., 1., 1., 1., 1., 1., 1.]])"
      ]
     },
     "execution_count": 65,
     "metadata": {},
     "output_type": "execute_result"
    }
   ],
   "source": [
    "policy.reshape(10,10)"
   ]
  },
  {
   "cell_type": "markdown",
   "metadata": {},
   "source": [
    "## medium ##\n",
    "\n",
    "create full Q table using KNN/regression/etc.\n",
    "\n",
    "try Q learning\n",
    "\n",
    "try sarsa learning\n",
    "\n",
    "this basically needs to be done when you hit the 10,000 reward"
   ]
  },
  {
   "cell_type": "code",
   "execution_count": 145,
   "metadata": {},
   "outputs": [],
   "source": [
    "data = pd.read_csv('medium.csv') "
   ]
  },
  {
   "cell_type": "code",
   "execution_count": 87,
   "metadata": {},
   "outputs": [
    {
     "data": {
      "text/html": [
       "<div>\n",
       "<style scoped>\n",
       "    .dataframe tbody tr th:only-of-type {\n",
       "        vertical-align: middle;\n",
       "    }\n",
       "\n",
       "    .dataframe tbody tr th {\n",
       "        vertical-align: top;\n",
       "    }\n",
       "\n",
       "    .dataframe thead th {\n",
       "        text-align: right;\n",
       "    }\n",
       "</style>\n",
       "<table border=\"1\" class=\"dataframe\">\n",
       "  <thead>\n",
       "    <tr style=\"text-align: right;\">\n",
       "      <th></th>\n",
       "      <th>s</th>\n",
       "      <th>a</th>\n",
       "      <th>r</th>\n",
       "      <th>sp</th>\n",
       "    </tr>\n",
       "  </thead>\n",
       "  <tbody>\n",
       "    <tr>\n",
       "      <td>0</td>\n",
       "      <td>24705</td>\n",
       "      <td>3</td>\n",
       "      <td>-25</td>\n",
       "      <td>24705</td>\n",
       "    </tr>\n",
       "    <tr>\n",
       "      <td>1</td>\n",
       "      <td>24705</td>\n",
       "      <td>3</td>\n",
       "      <td>-25</td>\n",
       "      <td>24704</td>\n",
       "    </tr>\n",
       "    <tr>\n",
       "      <td>2</td>\n",
       "      <td>24704</td>\n",
       "      <td>3</td>\n",
       "      <td>-25</td>\n",
       "      <td>24204</td>\n",
       "    </tr>\n",
       "    <tr>\n",
       "      <td>3</td>\n",
       "      <td>24204</td>\n",
       "      <td>3</td>\n",
       "      <td>-25</td>\n",
       "      <td>24203</td>\n",
       "    </tr>\n",
       "    <tr>\n",
       "      <td>4</td>\n",
       "      <td>24203</td>\n",
       "      <td>3</td>\n",
       "      <td>-25</td>\n",
       "      <td>24203</td>\n",
       "    </tr>\n",
       "    <tr>\n",
       "      <td>5</td>\n",
       "      <td>24203</td>\n",
       "      <td>3</td>\n",
       "      <td>-25</td>\n",
       "      <td>23702</td>\n",
       "    </tr>\n",
       "    <tr>\n",
       "      <td>6</td>\n",
       "      <td>23702</td>\n",
       "      <td>3</td>\n",
       "      <td>-25</td>\n",
       "      <td>23701</td>\n",
       "    </tr>\n",
       "    <tr>\n",
       "      <td>7</td>\n",
       "      <td>23701</td>\n",
       "      <td>3</td>\n",
       "      <td>-25</td>\n",
       "      <td>23700</td>\n",
       "    </tr>\n",
       "    <tr>\n",
       "      <td>8</td>\n",
       "      <td>23700</td>\n",
       "      <td>3</td>\n",
       "      <td>-25</td>\n",
       "      <td>23699</td>\n",
       "    </tr>\n",
       "    <tr>\n",
       "      <td>9</td>\n",
       "      <td>23699</td>\n",
       "      <td>3</td>\n",
       "      <td>-25</td>\n",
       "      <td>23698</td>\n",
       "    </tr>\n",
       "  </tbody>\n",
       "</table>\n",
       "</div>"
      ],
      "text/plain": [
       "       s  a   r     sp\n",
       "0  24705  3 -25  24705\n",
       "1  24705  3 -25  24704\n",
       "2  24704  3 -25  24204\n",
       "3  24204  3 -25  24203\n",
       "4  24203  3 -25  24203\n",
       "5  24203  3 -25  23702\n",
       "6  23702  3 -25  23701\n",
       "7  23701  3 -25  23700\n",
       "8  23700  3 -25  23699\n",
       "9  23699  3 -25  23698"
      ]
     },
     "execution_count": 87,
     "metadata": {},
     "output_type": "execute_result"
    }
   ],
   "source": [
    "data.head(10)"
   ]
  },
  {
   "cell_type": "code",
   "execution_count": 98,
   "metadata": {},
   "outputs": [
    {
     "data": {
      "text/plain": [
       "KNeighborsRegressor(algorithm='auto', leaf_size=30, metric='minkowski',\n",
       "                    metric_params=None, n_jobs=None, n_neighbors=20, p=2,\n",
       "                    weights='uniform')"
      ]
     },
     "execution_count": 98,
     "metadata": {},
     "output_type": "execute_result"
    }
   ],
   "source": [
    "knn = KNeighborsRegressor(n_neighbors=20)\n",
    "knn.fit(data[data.columns[0:2]], data.r)"
   ]
  },
  {
   "cell_type": "code",
   "execution_count": 127,
   "metadata": {},
   "outputs": [
    {
     "data": {
      "text/plain": [
       "-72.5"
      ]
     },
     "execution_count": 127,
     "metadata": {},
     "output_type": "execute_result"
    }
   ],
   "source": [
    "np.max([[knn.predict([[j, i]]) for i in range(7)] for j in range(200,4000)])"
   ]
  },
  {
   "cell_type": "code",
   "execution_count": 104,
   "metadata": {},
   "outputs": [
    {
     "data": {
      "text/plain": [
       "657"
      ]
     },
     "execution_count": 104,
     "metadata": {},
     "output_type": "execute_result"
    }
   ],
   "source": [
    "np.min(data.s)"
   ]
  },
  {
   "cell_type": "code",
   "execution_count": 113,
   "metadata": {},
   "outputs": [
    {
     "data": {
      "text/plain": [
       "49252"
      ]
     },
     "execution_count": 113,
     "metadata": {},
     "output_type": "execute_result"
    }
   ],
   "source": [
    "np.max(data.s)"
   ]
  },
  {
   "cell_type": "code",
   "execution_count": 122,
   "metadata": {},
   "outputs": [
    {
     "data": {
      "text/html": [
       "<div>\n",
       "<style scoped>\n",
       "    .dataframe tbody tr th:only-of-type {\n",
       "        vertical-align: middle;\n",
       "    }\n",
       "\n",
       "    .dataframe tbody tr th {\n",
       "        vertical-align: top;\n",
       "    }\n",
       "\n",
       "    .dataframe thead th {\n",
       "        text-align: right;\n",
       "    }\n",
       "</style>\n",
       "<table border=\"1\" class=\"dataframe\">\n",
       "  <thead>\n",
       "    <tr style=\"text-align: right;\">\n",
       "      <th></th>\n",
       "      <th>s</th>\n",
       "      <th>a</th>\n",
       "      <th>r</th>\n",
       "      <th>sp</th>\n",
       "    </tr>\n",
       "  </thead>\n",
       "  <tbody>\n",
       "    <tr>\n",
       "      <td>count</td>\n",
       "      <td>100000.000000</td>\n",
       "      <td>100000.000000</td>\n",
       "      <td>100000.00000</td>\n",
       "      <td>100000.000000</td>\n",
       "    </tr>\n",
       "    <tr>\n",
       "      <td>mean</td>\n",
       "      <td>25690.109410</td>\n",
       "      <td>4.031410</td>\n",
       "      <td>127.76475</td>\n",
       "      <td>25715.274830</td>\n",
       "    </tr>\n",
       "    <tr>\n",
       "      <td>std</td>\n",
       "      <td>8278.337595</td>\n",
       "      <td>1.780015</td>\n",
       "      <td>4544.73829</td>\n",
       "      <td>8302.383438</td>\n",
       "    </tr>\n",
       "    <tr>\n",
       "      <td>min</td>\n",
       "      <td>657.000000</td>\n",
       "      <td>1.000000</td>\n",
       "      <td>-225.00000</td>\n",
       "      <td>657.000000</td>\n",
       "    </tr>\n",
       "    <tr>\n",
       "      <td>25%</td>\n",
       "      <td>21683.000000</td>\n",
       "      <td>3.000000</td>\n",
       "      <td>-100.00000</td>\n",
       "      <td>21682.000000</td>\n",
       "    </tr>\n",
       "    <tr>\n",
       "      <td>50%</td>\n",
       "      <td>25196.000000</td>\n",
       "      <td>4.000000</td>\n",
       "      <td>-25.00000</td>\n",
       "      <td>25195.000000</td>\n",
       "    </tr>\n",
       "    <tr>\n",
       "      <td>75%</td>\n",
       "      <td>29703.000000</td>\n",
       "      <td>5.000000</td>\n",
       "      <td>-25.00000</td>\n",
       "      <td>29720.000000</td>\n",
       "    </tr>\n",
       "    <tr>\n",
       "      <td>max</td>\n",
       "      <td>49252.000000</td>\n",
       "      <td>7.000000</td>\n",
       "      <td>100000.00000</td>\n",
       "      <td>49252.000000</td>\n",
       "    </tr>\n",
       "  </tbody>\n",
       "</table>\n",
       "</div>"
      ],
      "text/plain": [
       "                   s              a             r             sp\n",
       "count  100000.000000  100000.000000  100000.00000  100000.000000\n",
       "mean    25690.109410       4.031410     127.76475   25715.274830\n",
       "std      8278.337595       1.780015    4544.73829    8302.383438\n",
       "min       657.000000       1.000000    -225.00000     657.000000\n",
       "25%     21683.000000       3.000000    -100.00000   21682.000000\n",
       "50%     25196.000000       4.000000     -25.00000   25195.000000\n",
       "75%     29703.000000       5.000000     -25.00000   29720.000000\n",
       "max     49252.000000       7.000000  100000.00000   49252.000000"
      ]
     },
     "execution_count": 122,
     "metadata": {},
     "output_type": "execute_result"
    }
   ],
   "source": [
    "data.describe()"
   ]
  },
  {
   "cell_type": "code",
   "execution_count": 164,
   "metadata": {},
   "outputs": [
    {
     "data": {
      "text/plain": [
       "0"
      ]
     },
     "execution_count": 164,
     "metadata": {},
     "output_type": "execute_result"
    }
   ],
   "source": [
    "s = 49252\n",
    "a = 8\n",
    "query = 's == '+ str(s) +' and a == '+ str(a)\n",
    "len(data.query(query))"
   ]
  },
  {
   "cell_type": "code",
   "execution_count": 161,
   "metadata": {},
   "outputs": [
    {
     "data": {
      "text/plain": [
       "array([[0., 0., 0., ..., 0., 0., 0.],\n",
       "       [0., 0., 0., ..., 0., 0., 0.],\n",
       "       [0., 0., 0., ..., 0., 0., 0.],\n",
       "       ...,\n",
       "       [0., 0., 0., ..., 0., 0., 0.],\n",
       "       [0., 0., 0., ..., 0., 0., 0.],\n",
       "       [0., 0., 0., ..., 0., 0., 0.]])"
      ]
     },
     "execution_count": 161,
     "metadata": {},
     "output_type": "execute_result"
    }
   ],
   "source": [
    "Q = np.zeros((50000,7))\n",
    "Q"
   ]
  },
  {
   "cell_type": "code",
   "execution_count": 162,
   "metadata": {},
   "outputs": [],
   "source": [
    "state_count = 50000\n",
    "action_count = 7"
   ]
  },
  {
   "cell_type": "code",
   "execution_count": null,
   "metadata": {},
   "outputs": [],
   "source": [
    "#try to inference about other state/value pairs\n",
    "\n",
    "for i in range(state_count):\n",
    "    for j in range(action_count):\n",
    "        query = 's == '+ str(i) +' and a == '+ str(j)\n",
    "        if len(data.query(query)) == 0:\n",
    "            [knn.predict([[i, j]])"
   ]
  }
 ],
 "metadata": {
  "kernelspec": {
   "display_name": "Python 3",
   "language": "python",
   "name": "python3"
  },
  "language_info": {
   "codemirror_mode": {
    "name": "ipython",
    "version": 3
   },
   "file_extension": ".py",
   "mimetype": "text/x-python",
   "name": "python",
   "nbconvert_exporter": "python",
   "pygments_lexer": "ipython3",
   "version": "3.6.9"
  }
 },
 "nbformat": 4,
 "nbformat_minor": 2
}
