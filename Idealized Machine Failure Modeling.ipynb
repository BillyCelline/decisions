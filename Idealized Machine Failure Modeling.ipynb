{
 "cells": [
  {
   "cell_type": "code",
   "execution_count": 240,
   "metadata": {},
   "outputs": [],
   "source": [
    "import seaborn, pygraphviz, time, copy\n",
    "import numpy as np, scipy as sp, pandas as pd, pymc as pm\n",
    "from pomegranate import *\n",
    "from matplotlib import pyplot as plt\n",
    "from scipy.stats import multinomial"
   ]
  },
  {
   "cell_type": "code",
   "execution_count": 33,
   "metadata": {},
   "outputs": [],
   "source": [
    "data = pd.read_csv('desktop/server_data.csv')"
   ]
  },
  {
   "cell_type": "code",
   "execution_count": 34,
   "metadata": {},
   "outputs": [],
   "source": [
    "data = data[data.columns[2:]].drop(['cpuFreq'],axis=1)"
   ]
  },
  {
   "cell_type": "code",
   "execution_count": 37,
   "metadata": {},
   "outputs": [
    {
     "data": {
      "text/plain": [
       "Index(['nbCurrent', 'cpuCurrent', 'cpuTemp', 'voltage0'], dtype='object')"
      ]
     },
     "execution_count": 37,
     "metadata": {},
     "output_type": "execute_result"
    }
   ],
   "source": [
    "data.columns[:4]"
   ]
  },
  {
   "cell_type": "markdown",
   "metadata": {},
   "source": [
    " ## Generates probability distributions and random variables from existing dataset ##"
   ]
  },
  {
   "cell_type": "code",
   "execution_count": 38,
   "metadata": {},
   "outputs": [],
   "source": [
    "def prob_gen(df):\n",
    "    vals, probs = [], []\n",
    "    for i in data.columns[:4]:\n",
    "        vals += [df[i].unique()]  \n",
    "        probs += [df[i].value_counts(normalize=True)]\n",
    "    return vals, probs"
   ]
  },
  {
   "cell_type": "code",
   "execution_count": 39,
   "metadata": {},
   "outputs": [],
   "source": [
    "def rv_gen(values, dist, length):\n",
    "    temp = [dist[i] for i in values]\n",
    "    return multinomial.rvs(n=1, p=temp, size=length)@np.array(values)"
   ]
  },
  {
   "cell_type": "markdown",
   "metadata": {},
   "source": [
    "## Randomly generates shutdowns, failures in accordance with an existing \"policy\" ##\n",
    "\n",
    "The \"policy\" is represented by the thresholds which are basically risk tolerances\n",
    "\n",
    "Given the randomness nature of the shutdowns, we can blame this policy on differences between individual operators as opposed to a corporate (or data driven) policy\n",
    "\n",
    "If the machine is at capacity level <= 12, we never shut down intentionally (and risk a 1% chance of failure)\n",
    "\n",
    "If capacity > 12 and <= 15, we shut down 20% of the time and risk a 5% chance of failure\n",
    "\n",
    "If capacity > 15, we shut down 94% of the time and risk a 5% chance of failure"
   ]
  },
  {
   "cell_type": "code",
   "execution_count": 247,
   "metadata": {},
   "outputs": [],
   "source": [
    "def status_gen(df):\n",
    "    m, n = df.shape\n",
    "    state = np.sum(df[:],axis=1).astype(int)\n",
    "    action, rewards = np.zeros(m), np.zeros(m)\n",
    "    \n",
    "    for x in range(len(state)):\n",
    "        test = np.random.rand()\n",
    "        if state[x] <= 12:\n",
    "            if test > .99:\n",
    "                action[x], rewards[x] = 0, -1000\n",
    "            else:\n",
    "                action[x], rewards[x] = 0, 1\n",
    "        elif state[x] > 12 and state[x] <= 15:\n",
    "            if test > .95:\n",
    "                action[x], rewards[x] = 0, -1000\n",
    "            elif test > .75 and test <= .95:\n",
    "                action[x], rewards[x] = 1, -100\n",
    "            else:\n",
    "                action[x], rewards[x] = 0, 1\n",
    "        else:\n",
    "            if test > .95:\n",
    "                action[x], rewards[x] = 0, -1000\n",
    "            elif test > .01 and test <= .95:\n",
    "                action[x], rewards[x] = 1, -100\n",
    "            else:\n",
    "                action[x], rewards[x] = 0, 1\n",
    "    \n",
    "    res = pd.DataFrame({'State':state.astype(int), 'Action':action.astype(int),\\\n",
    "                        'Reward':rewards.astype(int)})\n",
    "    return res"
   ]
  },
  {
   "cell_type": "code",
   "execution_count": 248,
   "metadata": {},
   "outputs": [],
   "source": [
    "def simulator(df, steps):\n",
    "    vals, probs = prob_gen(data) \n",
    "\n",
    "    sim_data = pd.DataFrame(np.matrix([rv_gen(vals[x], probs[x], steps) for x in range(len(vals))]).T, \\\n",
    "                        columns=data.columns[:4])\n",
    "    status_data = status_gen(sim_data)\n",
    "    \n",
    "    res = pd.concat([sim_data, status_data], axis=1)\n",
    "    \n",
    "    return res"
   ]
  },
  {
   "cell_type": "code",
   "execution_count": 249,
   "metadata": {},
   "outputs": [
    {
     "data": {
      "text/html": [
       "<div>\n",
       "<style scoped>\n",
       "    .dataframe tbody tr th:only-of-type {\n",
       "        vertical-align: middle;\n",
       "    }\n",
       "\n",
       "    .dataframe tbody tr th {\n",
       "        vertical-align: top;\n",
       "    }\n",
       "\n",
       "    .dataframe thead th {\n",
       "        text-align: right;\n",
       "    }\n",
       "</style>\n",
       "<table border=\"1\" class=\"dataframe\">\n",
       "  <thead>\n",
       "    <tr style=\"text-align: right;\">\n",
       "      <th></th>\n",
       "      <th>nbCurrent</th>\n",
       "      <th>cpuCurrent</th>\n",
       "      <th>cpuTemp</th>\n",
       "      <th>voltage0</th>\n",
       "      <th>State</th>\n",
       "      <th>Action</th>\n",
       "      <th>Reward</th>\n",
       "    </tr>\n",
       "  </thead>\n",
       "  <tbody>\n",
       "    <tr>\n",
       "      <th>0</th>\n",
       "      <td>2.0</td>\n",
       "      <td>3.0</td>\n",
       "      <td>2.0</td>\n",
       "      <td>0.0</td>\n",
       "      <td>7</td>\n",
       "      <td>0</td>\n",
       "      <td>1</td>\n",
       "    </tr>\n",
       "    <tr>\n",
       "      <th>1</th>\n",
       "      <td>3.0</td>\n",
       "      <td>3.0</td>\n",
       "      <td>6.0</td>\n",
       "      <td>2.0</td>\n",
       "      <td>14</td>\n",
       "      <td>0</td>\n",
       "      <td>1</td>\n",
       "    </tr>\n",
       "    <tr>\n",
       "      <th>2</th>\n",
       "      <td>1.0</td>\n",
       "      <td>3.0</td>\n",
       "      <td>1.0</td>\n",
       "      <td>0.0</td>\n",
       "      <td>5</td>\n",
       "      <td>0</td>\n",
       "      <td>1</td>\n",
       "    </tr>\n",
       "    <tr>\n",
       "      <th>3</th>\n",
       "      <td>7.0</td>\n",
       "      <td>3.0</td>\n",
       "      <td>1.0</td>\n",
       "      <td>0.0</td>\n",
       "      <td>11</td>\n",
       "      <td>0</td>\n",
       "      <td>1</td>\n",
       "    </tr>\n",
       "    <tr>\n",
       "      <th>4</th>\n",
       "      <td>1.0</td>\n",
       "      <td>3.0</td>\n",
       "      <td>1.0</td>\n",
       "      <td>0.0</td>\n",
       "      <td>5</td>\n",
       "      <td>0</td>\n",
       "      <td>1</td>\n",
       "    </tr>\n",
       "  </tbody>\n",
       "</table>\n",
       "</div>"
      ],
      "text/plain": [
       "   nbCurrent  cpuCurrent  cpuTemp  voltage0  State  Action  Reward\n",
       "0        2.0         3.0      2.0       0.0      7       0       1\n",
       "1        3.0         3.0      6.0       2.0     14       0       1\n",
       "2        1.0         3.0      1.0       0.0      5       0       1\n",
       "3        7.0         3.0      1.0       0.0     11       0       1\n",
       "4        1.0         3.0      1.0       0.0      5       0       1"
      ]
     },
     "execution_count": 249,
     "metadata": {},
     "output_type": "execute_result"
    }
   ],
   "source": [
    "steps = 1000000\n",
    "res = simulator(data, steps)\n",
    "\n",
    "res.head(5)"
   ]
  },
  {
   "cell_type": "code",
   "execution_count": 250,
   "metadata": {},
   "outputs": [
    {
     "data": {
      "image/png": "[encoded data removed]",
      "text/plain": [
       "<Figure size 432x288 with 1 Axes>"
      ]
     },
     "metadata": {
      "needs_background": "light"
     },
     "output_type": "display_data"
    }
   ],
   "source": [
    "plt.hist(res.State)\n",
    "plt.show()"
   ]
  },
  {
   "cell_type": "code",
   "execution_count": 255,
   "metadata": {},
   "outputs": [
    {
     "data": {
      "image/png": "[encoded data removed]",
      "text/plain": [
       "<Figure size 432x288 with 1 Axes>"
      ]
     },
     "metadata": {
      "needs_background": "light"
     },
     "output_type": "display_data"
    }
   ],
   "source": [
    "plt.hist(res.Reward)\n",
    "plt.show()"
   ]
  },
  {
   "cell_type": "code",
   "execution_count": 256,
   "metadata": {},
   "outputs": [],
   "source": [
    "pom_model = BayesianNetwork.from_samples(res, algorithm='exact')"
   ]
  },
  {
   "cell_type": "code",
   "execution_count": 257,
   "metadata": {},
   "outputs": [
    {
     "name": "stdout",
     "output_type": "stream",
     "text": [
      "((), (), (), (0, 2, 4), (0, 1, 2), (6,), (4,))\n"
     ]
    },
    {
     "data": {
      "image/png": "[encoded data removed]",
      "text/plain": [
       "<Figure size 432x288 with 1 Axes>"
      ]
     },
     "metadata": {
      "needs_background": "light"
     },
     "output_type": "display_data"
    }
   ],
   "source": [
    "print(pom_model.structure)\n",
    "pom_model.plot()"
   ]
  },
  {
   "cell_type": "markdown",
   "metadata": {},
   "source": [
    "## State Space: possible values of capacity [0,28]##\n",
    "\n",
    "## Action Space: 0(run), 1(take offline) ##\n",
    "\n",
    "## Rewards: fail(-1000), taken offline(-100), run(1) ##"
   ]
  },
  {
   "cell_type": "code",
   "execution_count": 225,
   "metadata": {},
   "outputs": [],
   "source": [
    "def Q_update(data, Q, alpha, gamma):\n",
    "    r = 0\n",
    "    for i in range(len(data)-1):\n",
    "        s, a, r, s_prime = data.State[i], data.Action[i], data.Reward[i], data.State[i+1]\n",
    "        Q[s, a] = Q[s, a] + alpha*(r + gamma*np.max(Q[s_prime]) - Q[s, a])\n",
    "    return Q"
   ]
  },
  {
   "cell_type": "code",
   "execution_count": 262,
   "metadata": {},
   "outputs": [],
   "source": [
    "def Q_learn(data, states, actions, iters, alpha, gamma):\n",
    "    \n",
    "    start = time.time()\n",
    "    Q, Q_temp = np.zeros((states,actions)), np.zeros((states,actions))   \n",
    "    Q = Q_update(data, Q, alpha, gamma)\n",
    "    diff, i = 1, 0\n",
    "    while diff > 0.1 and i < iters:\n",
    "        Q = Q_update(data, Q, alpha, gamma)        \n",
    "        diff = np.sum((Q_temp-Q)**2)\n",
    "        i += 1\n",
    "        Q_temp = copy.deepcopy(Q)\n",
    "    iters = i\n",
    "    \n",
    "    policy = np.argmax(Q,axis=1)+1\n",
    "    finish = time.time()\n",
    "    print('Ran ', iters, 'iterations in ', round(finish-start,2), ' seconds \\n')\n",
    "    \n",
    "    return Q, policy-1"
   ]
  },
  {
   "cell_type": "code",
   "execution_count": 258,
   "metadata": {},
   "outputs": [
    {
     "name": "stdout",
     "output_type": "stream",
     "text": [
      "Ran  8 iterations in  851.07  seconds \n",
      "\n"
     ]
    }
   ],
   "source": [
    "Q, policy = Q_learn(res, 29, 2, 1000, 0.5, 0.9)"
   ]
  },
  {
   "cell_type": "code",
   "execution_count": 259,
   "metadata": {},
   "outputs": [
    {
     "data": {
      "text/plain": [
       "array([[    5.52676147,     0.        ],\n",
       "       [    2.51346742,     0.        ],\n",
       "       [  -27.69713705,     0.        ],\n",
       "       [    3.85518028,     0.        ],\n",
       "       [    6.53952911,     0.        ],\n",
       "       [    5.97717915,     0.        ],\n",
       "       [    6.0040753 ,     0.        ],\n",
       "       [    4.47847109,     0.        ],\n",
       "       [    5.85992847,     0.        ],\n",
       "       [    6.01048605,     0.        ],\n",
       "       [    5.76718276,     0.        ],\n",
       "       [    5.64945979,     0.        ],\n",
       "       [    4.97743019,     0.        ],\n",
       "       [    5.77015432,   -95.36848228],\n",
       "       [    6.09739016,  -110.70669448],\n",
       "       [    4.18305303,   -96.00489508],\n",
       "       [ -866.43067024,   -97.46362405],\n",
       "       [ -866.93948779,  -104.14299727],\n",
       "       [ -701.07936909,   -96.89441343],\n",
       "       [-1001.95659207,   -97.28234047],\n",
       "       [ -996.87233637,   -97.86143741],\n",
       "       [ -731.57952334,  -101.47510131],\n",
       "       [    3.75327355,   -97.72604532],\n",
       "       [    0.        ,   -97.44071463],\n",
       "       [    0.        ,   -97.02733915],\n",
       "       [    0.        ,     0.        ],\n",
       "       [    0.        ,   -97.44601008],\n",
       "       [    0.        ,     0.        ],\n",
       "       [    0.        ,     0.        ]])"
      ]
     },
     "execution_count": 259,
     "metadata": {},
     "output_type": "execute_result"
    }
   ],
   "source": [
    "Q"
   ]
  },
  {
   "cell_type": "code",
   "execution_count": 261,
   "metadata": {},
   "outputs": [
    {
     "data": {
      "text/plain": [
       "array([0, 0, 1, 0, 0, 0, 0, 0, 0, 0, 0, 0, 0, 0, 0, 0, 1, 1, 1, 1, 1, 1,\n",
       "       0, 0, 0, 0, 0, 0, 0])"
      ]
     },
     "execution_count": 261,
     "metadata": {},
     "output_type": "execute_result"
    }
   ],
   "source": [
    "policy-1"
   ]
  },
  {
   "cell_type": "markdown",
   "metadata": {},
   "source": [
    "## Issues: ##\n",
    "\n",
    "full state space not encountered in current sample - need to use estimates\n",
    "\n",
    "policy at the upper bounds of state space seem sub-optimal. this is probably because the odds of getting there are so small"
   ]
  },
  {
   "cell_type": "markdown",
   "metadata": {},
   "source": [
    "## Questions: ##\n",
    "\n",
    "what is the optimal policy given this reward structure?\n",
    "\n",
    "what is the sensitivity of policies to rewards? (i.e., what if reward for running was 10, offline 0, etc.)\n",
    "\n",
    "    -what if management needed to ramp up production etc.?\n",
    "    \n",
    "is there an optimal policy across all reward structures?\n",
    "\n",
    "what is the sensitivity of policy to discount / learning rates? \n",
    "\n"
   ]
  },
  {
   "cell_type": "code",
   "execution_count": null,
   "metadata": {},
   "outputs": [],
   "source": []
  }
 ],
 "metadata": {
  "kernelspec": {
   "display_name": "Python 3",
   "language": "python",
   "name": "python3"
  },
  "language_info": {
   "codemirror_mode": {
    "name": "ipython",
    "version": 3
   },
   "file_extension": ".py",
   "mimetype": "text/x-python",
   "name": "python",
   "nbconvert_exporter": "python",
   "pygments_lexer": "ipython3",
   "version": "3.6.9"
  }
 },
 "nbformat": 4,
 "nbformat_minor": 2
}
